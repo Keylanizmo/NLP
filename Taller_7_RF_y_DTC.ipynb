{
  "nbformat": 4,
  "nbformat_minor": 0,
  "metadata": {
    "colab": {
      "name": "Taller_7_RF_y_DTC.ipynb",
      "provenance": [],
      "collapsed_sections": []
    },
    "kernelspec": {
      "name": "python3",
      "display_name": "Python 3"
    },
    "language_info": {
      "name": "python"
    }
  },
  "cells": [
    {
      "cell_type": "code",
      "metadata": {
        "id": "akD-lyiWfngi"
      },
      "source": [
        "import pandas as pd\n",
        "%matplotlib inline\n",
        "import numpy as np\n",
        "import matplotlib.pyplot as plt\n",
        "import seaborn as sns; sns.set()\n",
        "from sklearn import preprocessing\n",
        "from sklearn.metrics import confusion_matrix\n",
        "from sklearn import svm\n",
        "import matplotlib.pyplot as plt\n",
        "import matplotlib.mlab as mlab\n",
        "import seaborn\n",
        "\n",
        "%matplotlib inline"
      ],
      "execution_count": 28,
      "outputs": []
    },
    {
      "cell_type": "code",
      "metadata": {
        "id": "d0QP9somgOz1"
      },
      "source": [
        "df1 = pd.read_csv('creditcard.csv')\n",
        "df = pd.DataFrame(df1)"
      ],
      "execution_count": 29,
      "outputs": []
    },
    {
      "cell_type": "code",
      "metadata": {
        "colab": {
          "base_uri": "https://localhost:8080/",
          "height": 211
        },
        "id": "wmZUYNGXg67A",
        "outputId": "cc3d7dda-2215-4ad0-947b-a245aed2d91a"
      },
      "source": [
        "df.head(5)"
      ],
      "execution_count": 50,
      "outputs": [
        {
          "output_type": "execute_result",
          "data": {
            "text/html": [
              "<div>\n",
              "<style scoped>\n",
              "    .dataframe tbody tr th:only-of-type {\n",
              "        vertical-align: middle;\n",
              "    }\n",
              "\n",
              "    .dataframe tbody tr th {\n",
              "        vertical-align: top;\n",
              "    }\n",
              "\n",
              "    .dataframe thead th {\n",
              "        text-align: right;\n",
              "    }\n",
              "</style>\n",
              "<table border=\"1\" class=\"dataframe\">\n",
              "  <thead>\n",
              "    <tr style=\"text-align: right;\">\n",
              "      <th></th>\n",
              "      <th>Time</th>\n",
              "      <th>V1</th>\n",
              "      <th>V2</th>\n",
              "      <th>V3</th>\n",
              "      <th>V4</th>\n",
              "      <th>V5</th>\n",
              "      <th>V6</th>\n",
              "      <th>V7</th>\n",
              "      <th>V8</th>\n",
              "      <th>V9</th>\n",
              "      <th>V10</th>\n",
              "      <th>V11</th>\n",
              "      <th>V12</th>\n",
              "      <th>V13</th>\n",
              "      <th>V14</th>\n",
              "      <th>V15</th>\n",
              "      <th>V16</th>\n",
              "      <th>V17</th>\n",
              "      <th>V18</th>\n",
              "      <th>V19</th>\n",
              "      <th>V20</th>\n",
              "      <th>V21</th>\n",
              "      <th>V22</th>\n",
              "      <th>V23</th>\n",
              "      <th>V24</th>\n",
              "      <th>V25</th>\n",
              "      <th>V26</th>\n",
              "      <th>V27</th>\n",
              "      <th>V28</th>\n",
              "      <th>Amount</th>\n",
              "      <th>Class</th>\n",
              "    </tr>\n",
              "  </thead>\n",
              "  <tbody>\n",
              "    <tr>\n",
              "      <th>0</th>\n",
              "      <td>0.0</td>\n",
              "      <td>-1.359807</td>\n",
              "      <td>-0.072781</td>\n",
              "      <td>2.536347</td>\n",
              "      <td>1.378155</td>\n",
              "      <td>-0.338321</td>\n",
              "      <td>0.462388</td>\n",
              "      <td>0.239599</td>\n",
              "      <td>0.098698</td>\n",
              "      <td>0.363787</td>\n",
              "      <td>0.090794</td>\n",
              "      <td>-0.551600</td>\n",
              "      <td>-0.617801</td>\n",
              "      <td>-0.991390</td>\n",
              "      <td>-0.311169</td>\n",
              "      <td>1.468177</td>\n",
              "      <td>-0.470401</td>\n",
              "      <td>0.207971</td>\n",
              "      <td>0.025791</td>\n",
              "      <td>0.403993</td>\n",
              "      <td>0.251412</td>\n",
              "      <td>-0.018307</td>\n",
              "      <td>0.277838</td>\n",
              "      <td>-0.110474</td>\n",
              "      <td>0.066928</td>\n",
              "      <td>0.128539</td>\n",
              "      <td>-0.189115</td>\n",
              "      <td>0.133558</td>\n",
              "      <td>-0.021053</td>\n",
              "      <td>149.62</td>\n",
              "      <td>0</td>\n",
              "    </tr>\n",
              "    <tr>\n",
              "      <th>1</th>\n",
              "      <td>0.0</td>\n",
              "      <td>1.191857</td>\n",
              "      <td>0.266151</td>\n",
              "      <td>0.166480</td>\n",
              "      <td>0.448154</td>\n",
              "      <td>0.060018</td>\n",
              "      <td>-0.082361</td>\n",
              "      <td>-0.078803</td>\n",
              "      <td>0.085102</td>\n",
              "      <td>-0.255425</td>\n",
              "      <td>-0.166974</td>\n",
              "      <td>1.612727</td>\n",
              "      <td>1.065235</td>\n",
              "      <td>0.489095</td>\n",
              "      <td>-0.143772</td>\n",
              "      <td>0.635558</td>\n",
              "      <td>0.463917</td>\n",
              "      <td>-0.114805</td>\n",
              "      <td>-0.183361</td>\n",
              "      <td>-0.145783</td>\n",
              "      <td>-0.069083</td>\n",
              "      <td>-0.225775</td>\n",
              "      <td>-0.638672</td>\n",
              "      <td>0.101288</td>\n",
              "      <td>-0.339846</td>\n",
              "      <td>0.167170</td>\n",
              "      <td>0.125895</td>\n",
              "      <td>-0.008983</td>\n",
              "      <td>0.014724</td>\n",
              "      <td>2.69</td>\n",
              "      <td>0</td>\n",
              "    </tr>\n",
              "    <tr>\n",
              "      <th>2</th>\n",
              "      <td>1.0</td>\n",
              "      <td>-1.358354</td>\n",
              "      <td>-1.340163</td>\n",
              "      <td>1.773209</td>\n",
              "      <td>0.379780</td>\n",
              "      <td>-0.503198</td>\n",
              "      <td>1.800499</td>\n",
              "      <td>0.791461</td>\n",
              "      <td>0.247676</td>\n",
              "      <td>-1.514654</td>\n",
              "      <td>0.207643</td>\n",
              "      <td>0.624501</td>\n",
              "      <td>0.066084</td>\n",
              "      <td>0.717293</td>\n",
              "      <td>-0.165946</td>\n",
              "      <td>2.345865</td>\n",
              "      <td>-2.890083</td>\n",
              "      <td>1.109969</td>\n",
              "      <td>-0.121359</td>\n",
              "      <td>-2.261857</td>\n",
              "      <td>0.524980</td>\n",
              "      <td>0.247998</td>\n",
              "      <td>0.771679</td>\n",
              "      <td>0.909412</td>\n",
              "      <td>-0.689281</td>\n",
              "      <td>-0.327642</td>\n",
              "      <td>-0.139097</td>\n",
              "      <td>-0.055353</td>\n",
              "      <td>-0.059752</td>\n",
              "      <td>378.66</td>\n",
              "      <td>0</td>\n",
              "    </tr>\n",
              "    <tr>\n",
              "      <th>3</th>\n",
              "      <td>1.0</td>\n",
              "      <td>-0.966272</td>\n",
              "      <td>-0.185226</td>\n",
              "      <td>1.792993</td>\n",
              "      <td>-0.863291</td>\n",
              "      <td>-0.010309</td>\n",
              "      <td>1.247203</td>\n",
              "      <td>0.237609</td>\n",
              "      <td>0.377436</td>\n",
              "      <td>-1.387024</td>\n",
              "      <td>-0.054952</td>\n",
              "      <td>-0.226487</td>\n",
              "      <td>0.178228</td>\n",
              "      <td>0.507757</td>\n",
              "      <td>-0.287924</td>\n",
              "      <td>-0.631418</td>\n",
              "      <td>-1.059647</td>\n",
              "      <td>-0.684093</td>\n",
              "      <td>1.965775</td>\n",
              "      <td>-1.232622</td>\n",
              "      <td>-0.208038</td>\n",
              "      <td>-0.108300</td>\n",
              "      <td>0.005274</td>\n",
              "      <td>-0.190321</td>\n",
              "      <td>-1.175575</td>\n",
              "      <td>0.647376</td>\n",
              "      <td>-0.221929</td>\n",
              "      <td>0.062723</td>\n",
              "      <td>0.061458</td>\n",
              "      <td>123.50</td>\n",
              "      <td>0</td>\n",
              "    </tr>\n",
              "    <tr>\n",
              "      <th>4</th>\n",
              "      <td>2.0</td>\n",
              "      <td>-1.158233</td>\n",
              "      <td>0.877737</td>\n",
              "      <td>1.548718</td>\n",
              "      <td>0.403034</td>\n",
              "      <td>-0.407193</td>\n",
              "      <td>0.095921</td>\n",
              "      <td>0.592941</td>\n",
              "      <td>-0.270533</td>\n",
              "      <td>0.817739</td>\n",
              "      <td>0.753074</td>\n",
              "      <td>-0.822843</td>\n",
              "      <td>0.538196</td>\n",
              "      <td>1.345852</td>\n",
              "      <td>-1.119670</td>\n",
              "      <td>0.175121</td>\n",
              "      <td>-0.451449</td>\n",
              "      <td>-0.237033</td>\n",
              "      <td>-0.038195</td>\n",
              "      <td>0.803487</td>\n",
              "      <td>0.408542</td>\n",
              "      <td>-0.009431</td>\n",
              "      <td>0.798278</td>\n",
              "      <td>-0.137458</td>\n",
              "      <td>0.141267</td>\n",
              "      <td>-0.206010</td>\n",
              "      <td>0.502292</td>\n",
              "      <td>0.219422</td>\n",
              "      <td>0.215153</td>\n",
              "      <td>69.99</td>\n",
              "      <td>0</td>\n",
              "    </tr>\n",
              "  </tbody>\n",
              "</table>\n",
              "</div>"
            ],
            "text/plain": [
              "   Time        V1        V2        V3  ...       V27       V28  Amount  Class\n",
              "0   0.0 -1.359807 -0.072781  2.536347  ...  0.133558 -0.021053  149.62      0\n",
              "1   0.0  1.191857  0.266151  0.166480  ... -0.008983  0.014724    2.69      0\n",
              "2   1.0 -1.358354 -1.340163  1.773209  ... -0.055353 -0.059752  378.66      0\n",
              "3   1.0 -0.966272 -0.185226  1.792993  ...  0.062723  0.061458  123.50      0\n",
              "4   2.0 -1.158233  0.877737  1.548718  ...  0.219422  0.215153   69.99      0\n",
              "\n",
              "[5 rows x 31 columns]"
            ]
          },
          "metadata": {
            "tags": []
          },
          "execution_count": 50
        }
      ]
    },
    {
      "cell_type": "code",
      "metadata": {
        "id": "_gpzcsyDmY9W"
      },
      "source": [
        "df['Class'] = df['Class'].replace(\"'0'\", 'Cero')\n",
        "df['Class'] = df['Class'].replace(\"'1'\", 'Uno')"
      ],
      "execution_count": 30,
      "outputs": []
    },
    {
      "cell_type": "code",
      "metadata": {
        "id": "FcnlJjmi-YqZ"
      },
      "source": [
        "df['Class'] = df['Class'].replace('Cero', 0)\n",
        "df['Class'] = df['Class'].replace('Uno', 1)"
      ],
      "execution_count": 31,
      "outputs": []
    },
    {
      "cell_type": "code",
      "metadata": {
        "id": "Rxx3XoEj-vhC"
      },
      "source": [
        "df['Class']=df['Class'].astype('int')"
      ],
      "execution_count": 32,
      "outputs": []
    },
    {
      "cell_type": "code",
      "metadata": {
        "colab": {
          "base_uri": "https://localhost:8080/",
          "height": 411
        },
        "id": "x6Rk_oGClT7G",
        "outputId": "6622f46b-44df-4686-c116-e2835f78e1d9"
      },
      "source": [
        "df.head(200)"
      ],
      "execution_count": 33,
      "outputs": [
        {
          "output_type": "execute_result",
          "data": {
            "text/html": [
              "<div>\n",
              "<style scoped>\n",
              "    .dataframe tbody tr th:only-of-type {\n",
              "        vertical-align: middle;\n",
              "    }\n",
              "\n",
              "    .dataframe tbody tr th {\n",
              "        vertical-align: top;\n",
              "    }\n",
              "\n",
              "    .dataframe thead th {\n",
              "        text-align: right;\n",
              "    }\n",
              "</style>\n",
              "<table border=\"1\" class=\"dataframe\">\n",
              "  <thead>\n",
              "    <tr style=\"text-align: right;\">\n",
              "      <th></th>\n",
              "      <th>Time</th>\n",
              "      <th>V1</th>\n",
              "      <th>V2</th>\n",
              "      <th>V3</th>\n",
              "      <th>V4</th>\n",
              "      <th>V5</th>\n",
              "      <th>V6</th>\n",
              "      <th>V7</th>\n",
              "      <th>V8</th>\n",
              "      <th>V9</th>\n",
              "      <th>V10</th>\n",
              "      <th>V11</th>\n",
              "      <th>V12</th>\n",
              "      <th>V13</th>\n",
              "      <th>V14</th>\n",
              "      <th>V15</th>\n",
              "      <th>V16</th>\n",
              "      <th>V17</th>\n",
              "      <th>V18</th>\n",
              "      <th>V19</th>\n",
              "      <th>V20</th>\n",
              "      <th>V21</th>\n",
              "      <th>V22</th>\n",
              "      <th>V23</th>\n",
              "      <th>V24</th>\n",
              "      <th>V25</th>\n",
              "      <th>V26</th>\n",
              "      <th>V27</th>\n",
              "      <th>V28</th>\n",
              "      <th>Amount</th>\n",
              "      <th>Class</th>\n",
              "    </tr>\n",
              "  </thead>\n",
              "  <tbody>\n",
              "    <tr>\n",
              "      <th>0</th>\n",
              "      <td>0.0</td>\n",
              "      <td>-1.359807</td>\n",
              "      <td>-0.072781</td>\n",
              "      <td>2.536347</td>\n",
              "      <td>1.378155</td>\n",
              "      <td>-0.338321</td>\n",
              "      <td>0.462388</td>\n",
              "      <td>0.239599</td>\n",
              "      <td>0.098698</td>\n",
              "      <td>0.363787</td>\n",
              "      <td>0.090794</td>\n",
              "      <td>-0.551600</td>\n",
              "      <td>-0.617801</td>\n",
              "      <td>-0.991390</td>\n",
              "      <td>-0.311169</td>\n",
              "      <td>1.468177</td>\n",
              "      <td>-0.470401</td>\n",
              "      <td>0.207971</td>\n",
              "      <td>0.025791</td>\n",
              "      <td>0.403993</td>\n",
              "      <td>0.251412</td>\n",
              "      <td>-0.018307</td>\n",
              "      <td>0.277838</td>\n",
              "      <td>-0.110474</td>\n",
              "      <td>0.066928</td>\n",
              "      <td>0.128539</td>\n",
              "      <td>-0.189115</td>\n",
              "      <td>0.133558</td>\n",
              "      <td>-0.021053</td>\n",
              "      <td>149.62</td>\n",
              "      <td>0</td>\n",
              "    </tr>\n",
              "    <tr>\n",
              "      <th>1</th>\n",
              "      <td>0.0</td>\n",
              "      <td>1.191857</td>\n",
              "      <td>0.266151</td>\n",
              "      <td>0.166480</td>\n",
              "      <td>0.448154</td>\n",
              "      <td>0.060018</td>\n",
              "      <td>-0.082361</td>\n",
              "      <td>-0.078803</td>\n",
              "      <td>0.085102</td>\n",
              "      <td>-0.255425</td>\n",
              "      <td>-0.166974</td>\n",
              "      <td>1.612727</td>\n",
              "      <td>1.065235</td>\n",
              "      <td>0.489095</td>\n",
              "      <td>-0.143772</td>\n",
              "      <td>0.635558</td>\n",
              "      <td>0.463917</td>\n",
              "      <td>-0.114805</td>\n",
              "      <td>-0.183361</td>\n",
              "      <td>-0.145783</td>\n",
              "      <td>-0.069083</td>\n",
              "      <td>-0.225775</td>\n",
              "      <td>-0.638672</td>\n",
              "      <td>0.101288</td>\n",
              "      <td>-0.339846</td>\n",
              "      <td>0.167170</td>\n",
              "      <td>0.125895</td>\n",
              "      <td>-0.008983</td>\n",
              "      <td>0.014724</td>\n",
              "      <td>2.69</td>\n",
              "      <td>0</td>\n",
              "    </tr>\n",
              "    <tr>\n",
              "      <th>2</th>\n",
              "      <td>1.0</td>\n",
              "      <td>-1.358354</td>\n",
              "      <td>-1.340163</td>\n",
              "      <td>1.773209</td>\n",
              "      <td>0.379780</td>\n",
              "      <td>-0.503198</td>\n",
              "      <td>1.800499</td>\n",
              "      <td>0.791461</td>\n",
              "      <td>0.247676</td>\n",
              "      <td>-1.514654</td>\n",
              "      <td>0.207643</td>\n",
              "      <td>0.624501</td>\n",
              "      <td>0.066084</td>\n",
              "      <td>0.717293</td>\n",
              "      <td>-0.165946</td>\n",
              "      <td>2.345865</td>\n",
              "      <td>-2.890083</td>\n",
              "      <td>1.109969</td>\n",
              "      <td>-0.121359</td>\n",
              "      <td>-2.261857</td>\n",
              "      <td>0.524980</td>\n",
              "      <td>0.247998</td>\n",
              "      <td>0.771679</td>\n",
              "      <td>0.909412</td>\n",
              "      <td>-0.689281</td>\n",
              "      <td>-0.327642</td>\n",
              "      <td>-0.139097</td>\n",
              "      <td>-0.055353</td>\n",
              "      <td>-0.059752</td>\n",
              "      <td>378.66</td>\n",
              "      <td>0</td>\n",
              "    </tr>\n",
              "    <tr>\n",
              "      <th>3</th>\n",
              "      <td>1.0</td>\n",
              "      <td>-0.966272</td>\n",
              "      <td>-0.185226</td>\n",
              "      <td>1.792993</td>\n",
              "      <td>-0.863291</td>\n",
              "      <td>-0.010309</td>\n",
              "      <td>1.247203</td>\n",
              "      <td>0.237609</td>\n",
              "      <td>0.377436</td>\n",
              "      <td>-1.387024</td>\n",
              "      <td>-0.054952</td>\n",
              "      <td>-0.226487</td>\n",
              "      <td>0.178228</td>\n",
              "      <td>0.507757</td>\n",
              "      <td>-0.287924</td>\n",
              "      <td>-0.631418</td>\n",
              "      <td>-1.059647</td>\n",
              "      <td>-0.684093</td>\n",
              "      <td>1.965775</td>\n",
              "      <td>-1.232622</td>\n",
              "      <td>-0.208038</td>\n",
              "      <td>-0.108300</td>\n",
              "      <td>0.005274</td>\n",
              "      <td>-0.190321</td>\n",
              "      <td>-1.175575</td>\n",
              "      <td>0.647376</td>\n",
              "      <td>-0.221929</td>\n",
              "      <td>0.062723</td>\n",
              "      <td>0.061458</td>\n",
              "      <td>123.50</td>\n",
              "      <td>0</td>\n",
              "    </tr>\n",
              "    <tr>\n",
              "      <th>4</th>\n",
              "      <td>2.0</td>\n",
              "      <td>-1.158233</td>\n",
              "      <td>0.877737</td>\n",
              "      <td>1.548718</td>\n",
              "      <td>0.403034</td>\n",
              "      <td>-0.407193</td>\n",
              "      <td>0.095921</td>\n",
              "      <td>0.592941</td>\n",
              "      <td>-0.270533</td>\n",
              "      <td>0.817739</td>\n",
              "      <td>0.753074</td>\n",
              "      <td>-0.822843</td>\n",
              "      <td>0.538196</td>\n",
              "      <td>1.345852</td>\n",
              "      <td>-1.119670</td>\n",
              "      <td>0.175121</td>\n",
              "      <td>-0.451449</td>\n",
              "      <td>-0.237033</td>\n",
              "      <td>-0.038195</td>\n",
              "      <td>0.803487</td>\n",
              "      <td>0.408542</td>\n",
              "      <td>-0.009431</td>\n",
              "      <td>0.798278</td>\n",
              "      <td>-0.137458</td>\n",
              "      <td>0.141267</td>\n",
              "      <td>-0.206010</td>\n",
              "      <td>0.502292</td>\n",
              "      <td>0.219422</td>\n",
              "      <td>0.215153</td>\n",
              "      <td>69.99</td>\n",
              "      <td>0</td>\n",
              "    </tr>\n",
              "    <tr>\n",
              "      <th>...</th>\n",
              "      <td>...</td>\n",
              "      <td>...</td>\n",
              "      <td>...</td>\n",
              "      <td>...</td>\n",
              "      <td>...</td>\n",
              "      <td>...</td>\n",
              "      <td>...</td>\n",
              "      <td>...</td>\n",
              "      <td>...</td>\n",
              "      <td>...</td>\n",
              "      <td>...</td>\n",
              "      <td>...</td>\n",
              "      <td>...</td>\n",
              "      <td>...</td>\n",
              "      <td>...</td>\n",
              "      <td>...</td>\n",
              "      <td>...</td>\n",
              "      <td>...</td>\n",
              "      <td>...</td>\n",
              "      <td>...</td>\n",
              "      <td>...</td>\n",
              "      <td>...</td>\n",
              "      <td>...</td>\n",
              "      <td>...</td>\n",
              "      <td>...</td>\n",
              "      <td>...</td>\n",
              "      <td>...</td>\n",
              "      <td>...</td>\n",
              "      <td>...</td>\n",
              "      <td>...</td>\n",
              "      <td>...</td>\n",
              "    </tr>\n",
              "    <tr>\n",
              "      <th>195</th>\n",
              "      <td>128.0</td>\n",
              "      <td>1.239495</td>\n",
              "      <td>-0.182609</td>\n",
              "      <td>0.155058</td>\n",
              "      <td>-0.928892</td>\n",
              "      <td>-0.746227</td>\n",
              "      <td>-1.235608</td>\n",
              "      <td>-0.061695</td>\n",
              "      <td>-0.125223</td>\n",
              "      <td>0.984938</td>\n",
              "      <td>-0.746625</td>\n",
              "      <td>1.563459</td>\n",
              "      <td>0.890132</td>\n",
              "      <td>-0.985159</td>\n",
              "      <td>0.778734</td>\n",
              "      <td>1.016974</td>\n",
              "      <td>-0.429490</td>\n",
              "      <td>-0.335787</td>\n",
              "      <td>0.614690</td>\n",
              "      <td>0.703133</td>\n",
              "      <td>-0.160406</td>\n",
              "      <td>0.146077</td>\n",
              "      <td>0.481119</td>\n",
              "      <td>-0.140019</td>\n",
              "      <td>0.538261</td>\n",
              "      <td>0.710720</td>\n",
              "      <td>-0.621382</td>\n",
              "      <td>0.036867</td>\n",
              "      <td>0.010963</td>\n",
              "      <td>8.80</td>\n",
              "      <td>0</td>\n",
              "    </tr>\n",
              "    <tr>\n",
              "      <th>196</th>\n",
              "      <td>130.0</td>\n",
              "      <td>-0.485238</td>\n",
              "      <td>0.658497</td>\n",
              "      <td>1.949967</td>\n",
              "      <td>1.249695</td>\n",
              "      <td>0.426410</td>\n",
              "      <td>0.231513</td>\n",
              "      <td>0.585115</td>\n",
              "      <td>0.029163</td>\n",
              "      <td>-0.520297</td>\n",
              "      <td>0.055911</td>\n",
              "      <td>1.265311</td>\n",
              "      <td>0.521277</td>\n",
              "      <td>-0.830439</td>\n",
              "      <td>0.157455</td>\n",
              "      <td>-0.365075</td>\n",
              "      <td>-1.142187</td>\n",
              "      <td>0.409601</td>\n",
              "      <td>-0.204876</td>\n",
              "      <td>1.010483</td>\n",
              "      <td>0.089378</td>\n",
              "      <td>0.007290</td>\n",
              "      <td>0.328244</td>\n",
              "      <td>-0.232563</td>\n",
              "      <td>0.225572</td>\n",
              "      <td>0.025892</td>\n",
              "      <td>-0.247395</td>\n",
              "      <td>-0.025381</td>\n",
              "      <td>-0.118565</td>\n",
              "      <td>5.97</td>\n",
              "      <td>0</td>\n",
              "    </tr>\n",
              "    <tr>\n",
              "      <th>197</th>\n",
              "      <td>130.0</td>\n",
              "      <td>1.353283</td>\n",
              "      <td>-0.694900</td>\n",
              "      <td>0.970826</td>\n",
              "      <td>-0.426559</td>\n",
              "      <td>-1.417263</td>\n",
              "      <td>-0.505710</td>\n",
              "      <td>-0.932069</td>\n",
              "      <td>-0.083957</td>\n",
              "      <td>-0.224208</td>\n",
              "      <td>0.446748</td>\n",
              "      <td>-0.540412</td>\n",
              "      <td>0.072338</td>\n",
              "      <td>1.006647</td>\n",
              "      <td>-0.905357</td>\n",
              "      <td>-0.304202</td>\n",
              "      <td>0.802626</td>\n",
              "      <td>0.483087</td>\n",
              "      <td>-1.344930</td>\n",
              "      <td>0.649045</td>\n",
              "      <td>0.126358</td>\n",
              "      <td>0.284341</td>\n",
              "      <td>0.993434</td>\n",
              "      <td>-0.164893</td>\n",
              "      <td>0.474257</td>\n",
              "      <td>0.623848</td>\n",
              "      <td>-0.006750</td>\n",
              "      <td>0.046026</td>\n",
              "      <td>0.022043</td>\n",
              "      <td>15.93</td>\n",
              "      <td>0</td>\n",
              "    </tr>\n",
              "    <tr>\n",
              "      <th>198</th>\n",
              "      <td>131.0</td>\n",
              "      <td>-1.007391</td>\n",
              "      <td>1.261943</td>\n",
              "      <td>1.207203</td>\n",
              "      <td>1.307575</td>\n",
              "      <td>0.153211</td>\n",
              "      <td>0.062291</td>\n",
              "      <td>0.508647</td>\n",
              "      <td>0.079447</td>\n",
              "      <td>-0.395211</td>\n",
              "      <td>-0.006152</td>\n",
              "      <td>-0.468288</td>\n",
              "      <td>0.827819</td>\n",
              "      <td>1.046676</td>\n",
              "      <td>-0.185213</td>\n",
              "      <td>0.109267</td>\n",
              "      <td>-1.252804</td>\n",
              "      <td>0.605941</td>\n",
              "      <td>-0.831080</td>\n",
              "      <td>0.772721</td>\n",
              "      <td>-0.104067</td>\n",
              "      <td>0.039150</td>\n",
              "      <td>0.411661</td>\n",
              "      <td>-0.080320</td>\n",
              "      <td>0.121235</td>\n",
              "      <td>-0.133000</td>\n",
              "      <td>-0.303177</td>\n",
              "      <td>-0.463913</td>\n",
              "      <td>-0.164157</td>\n",
              "      <td>10.00</td>\n",
              "      <td>0</td>\n",
              "    </tr>\n",
              "    <tr>\n",
              "      <th>199</th>\n",
              "      <td>132.0</td>\n",
              "      <td>-0.394816</td>\n",
              "      <td>1.054418</td>\n",
              "      <td>1.206361</td>\n",
              "      <td>-0.289232</td>\n",
              "      <td>0.610284</td>\n",
              "      <td>0.081529</td>\n",
              "      <td>0.687721</td>\n",
              "      <td>0.065341</td>\n",
              "      <td>-0.501623</td>\n",
              "      <td>-0.387105</td>\n",
              "      <td>-0.748656</td>\n",
              "      <td>0.317262</td>\n",
              "      <td>1.209455</td>\n",
              "      <td>-0.089114</td>\n",
              "      <td>1.045811</td>\n",
              "      <td>0.101501</td>\n",
              "      <td>-0.479842</td>\n",
              "      <td>-0.656485</td>\n",
              "      <td>-0.035922</td>\n",
              "      <td>0.160783</td>\n",
              "      <td>-0.243154</td>\n",
              "      <td>-0.548388</td>\n",
              "      <td>-0.107138</td>\n",
              "      <td>-0.757097</td>\n",
              "      <td>-0.119197</td>\n",
              "      <td>0.149368</td>\n",
              "      <td>0.287360</td>\n",
              "      <td>0.111322</td>\n",
              "      <td>3.87</td>\n",
              "      <td>0</td>\n",
              "    </tr>\n",
              "  </tbody>\n",
              "</table>\n",
              "<p>200 rows × 31 columns</p>\n",
              "</div>"
            ],
            "text/plain": [
              "      Time        V1        V2        V3  ...       V27       V28  Amount  Class\n",
              "0      0.0 -1.359807 -0.072781  2.536347  ...  0.133558 -0.021053  149.62      0\n",
              "1      0.0  1.191857  0.266151  0.166480  ... -0.008983  0.014724    2.69      0\n",
              "2      1.0 -1.358354 -1.340163  1.773209  ... -0.055353 -0.059752  378.66      0\n",
              "3      1.0 -0.966272 -0.185226  1.792993  ...  0.062723  0.061458  123.50      0\n",
              "4      2.0 -1.158233  0.877737  1.548718  ...  0.219422  0.215153   69.99      0\n",
              "..     ...       ...       ...       ...  ...       ...       ...     ...    ...\n",
              "195  128.0  1.239495 -0.182609  0.155058  ...  0.036867  0.010963    8.80      0\n",
              "196  130.0 -0.485238  0.658497  1.949967  ... -0.025381 -0.118565    5.97      0\n",
              "197  130.0  1.353283 -0.694900  0.970826  ...  0.046026  0.022043   15.93      0\n",
              "198  131.0 -1.007391  1.261943  1.207203  ... -0.463913 -0.164157   10.00      0\n",
              "199  132.0 -0.394816  1.054418  1.206361  ...  0.287360  0.111322    3.87      0\n",
              "\n",
              "[200 rows x 31 columns]"
            ]
          },
          "metadata": {
            "tags": []
          },
          "execution_count": 33
        }
      ]
    },
    {
      "cell_type": "code",
      "metadata": {
        "colab": {
          "base_uri": "https://localhost:8080/",
          "height": 500
        },
        "id": "HVYCxndGfOI6",
        "outputId": "bda8a386-2ff1-4599-cf16-f64fd60f7eda"
      },
      "source": [
        "fig, ax= plt.subplots(figsize=(16,7))\n",
        "sns.distplot(df.iloc[:,1:-2])\n"
      ],
      "execution_count": 27,
      "outputs": [
        {
          "output_type": "stream",
          "text": [
            "/usr/local/lib/python3.7/dist-packages/seaborn/distributions.py:2557: FutureWarning: `distplot` is a deprecated function and will be removed in a future version. Please adapt your code to use either `displot` (a figure-level function with similar flexibility) or `histplot` (an axes-level function for histograms).\n",
            "  warnings.warn(msg, FutureWarning)\n"
          ],
          "name": "stderr"
        },
        {
          "output_type": "execute_result",
          "data": {
            "text/plain": [
              "<matplotlib.axes._subplots.AxesSubplot at 0x7fb302badfd0>"
            ]
          },
          "metadata": {
            "tags": []
          },
          "execution_count": 27
        },
        {
          "output_type": "display_data",
          "data": {
            "image/png": "[encoded data removed]",
            "text/plain": [
              "<Figure size 1152x504 with 1 Axes>"
            ]
          },
          "metadata": {
            "tags": [],
            "needs_background": "light"
          }
        }
      ]
    },
    {
      "cell_type": "code",
      "metadata": {
        "colab": {
          "base_uri": "https://localhost:8080/"
        },
        "id": "J0bW6dOAgCPR",
        "outputId": "d0d9b71e-5899-4e95-d5b4-79dea9722706"
      },
      "source": [
        "jx = df.iloc[:,1:-2]\n",
        "jy = df.iloc[:,-1]\n",
        "print(jx.shape)\n",
        "print(jy.shape)"
      ],
      "execution_count": 36,
      "outputs": [
        {
          "output_type": "stream",
          "text": [
            "(284807, 28)\n",
            "(284807,)\n"
          ],
          "name": "stdout"
        }
      ]
    },
    {
      "cell_type": "code",
      "metadata": {
        "colab": {
          "base_uri": "https://localhost:8080/"
        },
        "id": "1CaO9IP3jODT",
        "outputId": "26863c54-0051-4bba-de9b-7251c5908c37"
      },
      "source": [
        "ceros = jy[jy==0].count()\n",
        "unos = jy[jy==1].count()\n",
        "\n",
        "ceros, unos"
      ],
      "execution_count": 37,
      "outputs": [
        {
          "output_type": "execute_result",
          "data": {
            "text/plain": [
              "(284315, 492)"
            ]
          },
          "metadata": {
            "tags": []
          },
          "execution_count": 37
        }
      ]
    },
    {
      "cell_type": "code",
      "metadata": {
        "id": "rCpL96kPA0AE"
      },
      "source": [
        "from sklearn.model_selection import  train_test_split"
      ],
      "execution_count": 38,
      "outputs": []
    },
    {
      "cell_type": "code",
      "metadata": {
        "id": "e6JYe8bxA89z"
      },
      "source": [
        "X_train, X_test, y_train, y_test  = train_test_split(jx, jy, test_size=0.3, random_state=1)"
      ],
      "execution_count": 39,
      "outputs": []
    },
    {
      "cell_type": "code",
      "metadata": {
        "colab": {
          "base_uri": "https://localhost:8080/",
          "height": 211
        },
        "id": "wL7_YiAXLmUG",
        "outputId": "d32610a5-9f1c-49b5-f29b-a08e61b46405"
      },
      "source": [
        "X_train.head()"
      ],
      "execution_count": 40,
      "outputs": [
        {
          "output_type": "execute_result",
          "data": {
            "text/html": [
              "<div>\n",
              "<style scoped>\n",
              "    .dataframe tbody tr th:only-of-type {\n",
              "        vertical-align: middle;\n",
              "    }\n",
              "\n",
              "    .dataframe tbody tr th {\n",
              "        vertical-align: top;\n",
              "    }\n",
              "\n",
              "    .dataframe thead th {\n",
              "        text-align: right;\n",
              "    }\n",
              "</style>\n",
              "<table border=\"1\" class=\"dataframe\">\n",
              "  <thead>\n",
              "    <tr style=\"text-align: right;\">\n",
              "      <th></th>\n",
              "      <th>V1</th>\n",
              "      <th>V2</th>\n",
              "      <th>V3</th>\n",
              "      <th>V4</th>\n",
              "      <th>V5</th>\n",
              "      <th>V6</th>\n",
              "      <th>V7</th>\n",
              "      <th>V8</th>\n",
              "      <th>V9</th>\n",
              "      <th>V10</th>\n",
              "      <th>V11</th>\n",
              "      <th>V12</th>\n",
              "      <th>V13</th>\n",
              "      <th>V14</th>\n",
              "      <th>V15</th>\n",
              "      <th>V16</th>\n",
              "      <th>V17</th>\n",
              "      <th>V18</th>\n",
              "      <th>V19</th>\n",
              "      <th>V20</th>\n",
              "      <th>V21</th>\n",
              "      <th>V22</th>\n",
              "      <th>V23</th>\n",
              "      <th>V24</th>\n",
              "      <th>V25</th>\n",
              "      <th>V26</th>\n",
              "      <th>V27</th>\n",
              "      <th>V28</th>\n",
              "    </tr>\n",
              "  </thead>\n",
              "  <tbody>\n",
              "    <tr>\n",
              "      <th>191125</th>\n",
              "      <td>-0.190075</td>\n",
              "      <td>0.203323</td>\n",
              "      <td>-0.996232</td>\n",
              "      <td>-1.596985</td>\n",
              "      <td>3.192579</td>\n",
              "      <td>3.356935</td>\n",
              "      <td>0.288299</td>\n",
              "      <td>0.895003</td>\n",
              "      <td>-0.330024</td>\n",
              "      <td>-0.646900</td>\n",
              "      <td>-0.282785</td>\n",
              "      <td>0.023241</td>\n",
              "      <td>-0.421092</td>\n",
              "      <td>0.368247</td>\n",
              "      <td>-0.158465</td>\n",
              "      <td>-0.334756</td>\n",
              "      <td>-0.337180</td>\n",
              "      <td>-0.842032</td>\n",
              "      <td>-0.033013</td>\n",
              "      <td>-0.007496</td>\n",
              "      <td>-0.170599</td>\n",
              "      <td>-0.619724</td>\n",
              "      <td>0.039651</td>\n",
              "      <td>0.706805</td>\n",
              "      <td>-0.160870</td>\n",
              "      <td>0.274825</td>\n",
              "      <td>-0.010541</td>\n",
              "      <td>0.022199</td>\n",
              "    </tr>\n",
              "    <tr>\n",
              "      <th>153710</th>\n",
              "      <td>-0.000313</td>\n",
              "      <td>1.041633</td>\n",
              "      <td>-0.318849</td>\n",
              "      <td>-0.429824</td>\n",
              "      <td>0.927591</td>\n",
              "      <td>-0.784796</td>\n",
              "      <td>0.815404</td>\n",
              "      <td>-0.175950</td>\n",
              "      <td>1.175180</td>\n",
              "      <td>-1.221469</td>\n",
              "      <td>1.659649</td>\n",
              "      <td>-2.785047</td>\n",
              "      <td>0.373031</td>\n",
              "      <td>0.959813</td>\n",
              "      <td>-0.781750</td>\n",
              "      <td>0.471617</td>\n",
              "      <td>0.757110</td>\n",
              "      <td>1.553497</td>\n",
              "      <td>-0.480573</td>\n",
              "      <td>-0.284525</td>\n",
              "      <td>0.160884</td>\n",
              "      <td>0.681572</td>\n",
              "      <td>-0.313216</td>\n",
              "      <td>-0.556475</td>\n",
              "      <td>-0.077819</td>\n",
              "      <td>-0.218129</td>\n",
              "      <td>-0.095776</td>\n",
              "      <td>0.037814</td>\n",
              "    </tr>\n",
              "    <tr>\n",
              "      <th>261216</th>\n",
              "      <td>2.065603</td>\n",
              "      <td>0.071537</td>\n",
              "      <td>-1.892041</td>\n",
              "      <td>0.190985</td>\n",
              "      <td>0.681571</td>\n",
              "      <td>-0.286226</td>\n",
              "      <td>0.051364</td>\n",
              "      <td>-0.040737</td>\n",
              "      <td>0.314773</td>\n",
              "      <td>-0.199536</td>\n",
              "      <td>0.644008</td>\n",
              "      <td>0.509291</td>\n",
              "      <td>-0.247527</td>\n",
              "      <td>-0.614734</td>\n",
              "      <td>-0.425518</td>\n",
              "      <td>0.668894</td>\n",
              "      <td>0.064331</td>\n",
              "      <td>0.384197</td>\n",
              "      <td>0.527165</td>\n",
              "      <td>-0.148721</td>\n",
              "      <td>-0.348255</td>\n",
              "      <td>-0.947148</td>\n",
              "      <td>0.270988</td>\n",
              "      <td>-0.011917</td>\n",
              "      <td>-0.234159</td>\n",
              "      <td>0.185280</td>\n",
              "      <td>-0.069232</td>\n",
              "      <td>-0.046179</td>\n",
              "    </tr>\n",
              "    <tr>\n",
              "      <th>190724</th>\n",
              "      <td>2.025587</td>\n",
              "      <td>0.060125</td>\n",
              "      <td>-1.843486</td>\n",
              "      <td>0.347168</td>\n",
              "      <td>0.301427</td>\n",
              "      <td>-0.955263</td>\n",
              "      <td>0.073910</td>\n",
              "      <td>-0.137681</td>\n",
              "      <td>0.525494</td>\n",
              "      <td>-0.277888</td>\n",
              "      <td>0.910986</td>\n",
              "      <td>0.055726</td>\n",
              "      <td>-1.178182</td>\n",
              "      <td>-0.318203</td>\n",
              "      <td>0.394330</td>\n",
              "      <td>0.489917</td>\n",
              "      <td>0.148204</td>\n",
              "      <td>1.153798</td>\n",
              "      <td>-0.083757</td>\n",
              "      <td>-0.262006</td>\n",
              "      <td>0.219107</td>\n",
              "      <td>0.722795</td>\n",
              "      <td>-0.054034</td>\n",
              "      <td>-0.490497</td>\n",
              "      <td>0.212825</td>\n",
              "      <td>-0.091711</td>\n",
              "      <td>-0.011126</td>\n",
              "      <td>-0.047441</td>\n",
              "    </tr>\n",
              "    <tr>\n",
              "      <th>127492</th>\n",
              "      <td>-0.482824</td>\n",
              "      <td>0.692865</td>\n",
              "      <td>1.397751</td>\n",
              "      <td>0.822699</td>\n",
              "      <td>-0.815530</td>\n",
              "      <td>0.143287</td>\n",
              "      <td>-0.419970</td>\n",
              "      <td>0.605203</td>\n",
              "      <td>-0.650301</td>\n",
              "      <td>-0.109470</td>\n",
              "      <td>0.906279</td>\n",
              "      <td>0.705060</td>\n",
              "      <td>0.569520</td>\n",
              "      <td>0.457899</td>\n",
              "      <td>1.289436</td>\n",
              "      <td>0.327637</td>\n",
              "      <td>-0.204127</td>\n",
              "      <td>1.013530</td>\n",
              "      <td>1.765153</td>\n",
              "      <td>0.207773</td>\n",
              "      <td>0.255948</td>\n",
              "      <td>0.566025</td>\n",
              "      <td>0.161260</td>\n",
              "      <td>0.057495</td>\n",
              "      <td>-1.055243</td>\n",
              "      <td>0.503132</td>\n",
              "      <td>0.069006</td>\n",
              "      <td>0.112114</td>\n",
              "    </tr>\n",
              "  </tbody>\n",
              "</table>\n",
              "</div>"
            ],
            "text/plain": [
              "              V1        V2        V3  ...       V26       V27       V28\n",
              "191125 -0.190075  0.203323 -0.996232  ...  0.274825 -0.010541  0.022199\n",
              "153710 -0.000313  1.041633 -0.318849  ... -0.218129 -0.095776  0.037814\n",
              "261216  2.065603  0.071537 -1.892041  ...  0.185280 -0.069232 -0.046179\n",
              "190724  2.025587  0.060125 -1.843486  ... -0.091711 -0.011126 -0.047441\n",
              "127492 -0.482824  0.692865  1.397751  ...  0.503132  0.069006  0.112114\n",
              "\n",
              "[5 rows x 28 columns]"
            ]
          },
          "metadata": {
            "tags": []
          },
          "execution_count": 40
        }
      ]
    },
    {
      "cell_type": "code",
      "metadata": {
        "id": "_DJYat3Iw9iM"
      },
      "source": [
        "from sklearn.tree import DecisionTreeClassifier\n",
        "model = DecisionTreeClassifier(random_state=1)\n"
      ],
      "execution_count": 41,
      "outputs": []
    },
    {
      "cell_type": "code",
      "metadata": {
        "colab": {
          "base_uri": "https://localhost:8080/"
        },
        "id": "vQOasywEL7YI",
        "outputId": "93585f1a-961e-46f8-de08-8b94c539896f"
      },
      "source": [
        "model.fit(X_train, y_train)"
      ],
      "execution_count": 42,
      "outputs": [
        {
          "output_type": "execute_result",
          "data": {
            "text/plain": [
              "DecisionTreeClassifier(ccp_alpha=0.0, class_weight=None, criterion='gini',\n",
              "                       max_depth=None, max_features=None, max_leaf_nodes=None,\n",
              "                       min_impurity_decrease=0.0, min_impurity_split=None,\n",
              "                       min_samples_leaf=1, min_samples_split=2,\n",
              "                       min_weight_fraction_leaf=0.0, presort='deprecated',\n",
              "                       random_state=1, splitter='best')"
            ]
          },
          "metadata": {
            "tags": []
          },
          "execution_count": 42
        }
      ]
    },
    {
      "cell_type": "code",
      "metadata": {
        "id": "ADnS5LZ6MTdC"
      },
      "source": [
        "y_pred = model.predict(X_test)"
      ],
      "execution_count": 43,
      "outputs": []
    },
    {
      "cell_type": "code",
      "metadata": {
        "id": "-c-VNGT7MaJa"
      },
      "source": [
        "comp = pd.DataFrame({'real': y_test,'predicción': y_pred})"
      ],
      "execution_count": 44,
      "outputs": []
    },
    {
      "cell_type": "code",
      "metadata": {
        "colab": {
          "base_uri": "https://localhost:8080/",
          "height": 335
        },
        "id": "jAuUdt6TNEjy",
        "outputId": "c4a559b9-7410-47f9-fc48-472b44ac2cbb"
      },
      "source": [
        "comp.head(10)"
      ],
      "execution_count": 45,
      "outputs": [
        {
          "output_type": "execute_result",
          "data": {
            "text/html": [
              "<div>\n",
              "<style scoped>\n",
              "    .dataframe tbody tr th:only-of-type {\n",
              "        vertical-align: middle;\n",
              "    }\n",
              "\n",
              "    .dataframe tbody tr th {\n",
              "        vertical-align: top;\n",
              "    }\n",
              "\n",
              "    .dataframe thead th {\n",
              "        text-align: right;\n",
              "    }\n",
              "</style>\n",
              "<table border=\"1\" class=\"dataframe\">\n",
              "  <thead>\n",
              "    <tr style=\"text-align: right;\">\n",
              "      <th></th>\n",
              "      <th>real</th>\n",
              "      <th>predicción</th>\n",
              "    </tr>\n",
              "  </thead>\n",
              "  <tbody>\n",
              "    <tr>\n",
              "      <th>169876</th>\n",
              "      <td>0</td>\n",
              "      <td>0</td>\n",
              "    </tr>\n",
              "    <tr>\n",
              "      <th>127467</th>\n",
              "      <td>0</td>\n",
              "      <td>0</td>\n",
              "    </tr>\n",
              "    <tr>\n",
              "      <th>137900</th>\n",
              "      <td>0</td>\n",
              "      <td>0</td>\n",
              "    </tr>\n",
              "    <tr>\n",
              "      <th>21513</th>\n",
              "      <td>0</td>\n",
              "      <td>0</td>\n",
              "    </tr>\n",
              "    <tr>\n",
              "      <th>134700</th>\n",
              "      <td>0</td>\n",
              "      <td>0</td>\n",
              "    </tr>\n",
              "    <tr>\n",
              "      <th>196117</th>\n",
              "      <td>0</td>\n",
              "      <td>0</td>\n",
              "    </tr>\n",
              "    <tr>\n",
              "      <th>24533</th>\n",
              "      <td>0</td>\n",
              "      <td>0</td>\n",
              "    </tr>\n",
              "    <tr>\n",
              "      <th>13629</th>\n",
              "      <td>0</td>\n",
              "      <td>0</td>\n",
              "    </tr>\n",
              "    <tr>\n",
              "      <th>246673</th>\n",
              "      <td>0</td>\n",
              "      <td>0</td>\n",
              "    </tr>\n",
              "    <tr>\n",
              "      <th>91842</th>\n",
              "      <td>0</td>\n",
              "      <td>0</td>\n",
              "    </tr>\n",
              "  </tbody>\n",
              "</table>\n",
              "</div>"
            ],
            "text/plain": [
              "        real  predicción\n",
              "169876     0           0\n",
              "127467     0           0\n",
              "137900     0           0\n",
              "21513      0           0\n",
              "134700     0           0\n",
              "196117     0           0\n",
              "24533      0           0\n",
              "13629      0           0\n",
              "246673     0           0\n",
              "91842      0           0"
            ]
          },
          "metadata": {
            "tags": []
          },
          "execution_count": 45
        }
      ]
    },
    {
      "cell_type": "code",
      "metadata": {
        "id": "RRD84zw6NRYq"
      },
      "source": [
        "from sklearn.metrics import  accuracy_score"
      ],
      "execution_count": 46,
      "outputs": []
    },
    {
      "cell_type": "code",
      "metadata": {
        "colab": {
          "base_uri": "https://localhost:8080/"
        },
        "id": "PCBL9AURNXVg",
        "outputId": "2614b07b-f6ba-4c44-c577-9247b3973e68"
      },
      "source": [
        "acc = accuracy_score(y_test, y_pred)\n",
        "acc"
      ],
      "execution_count": 52,
      "outputs": [
        {
          "output_type": "execute_result",
          "data": {
            "text/plain": [
              "0.9991105181231933"
            ]
          },
          "metadata": {
            "tags": []
          },
          "execution_count": 52
        }
      ]
    },
    {
      "cell_type": "code",
      "metadata": {
        "colab": {
          "base_uri": "https://localhost:8080/",
          "height": 285
        },
        "id": "jHfRrEYZNloN",
        "outputId": "04247067-0f81-4316-a230-8e5116597ce8"
      },
      "source": [
        "from sklearn.metrics import  confusion_matrix\n",
        "cm = confusion_matrix(y_test, y_pred)\n",
        "sns.heatmap(cm.T, square=True, annot=True, fmt='d', cbar=False)\n",
        "plt.xlabel('true label')\n",
        "plt.ylabel('predicted label');"
      ],
      "execution_count": 53,
      "outputs": [
        {
          "output_type": "display_data",
          "data": {
            "image/png": "[encoded data removed]",
            "text/plain": [
              "<Figure size 432x288 with 1 Axes>"
            ]
          },
          "metadata": {
            "tags": [],
            "needs_background": "light"
          }
        }
      ]
    },
    {
      "cell_type": "code",
      "metadata": {
        "colab": {
          "base_uri": "https://localhost:8080/"
        },
        "id": "5zT-uZ3zoQXq",
        "outputId": "04bc20a0-b59f-4eac-8569-c0faecd284f9"
      },
      "source": [
        "from sklearn import metrics\n",
        "print(metrics.classification_report(y_pred, y_test))"
      ],
      "execution_count": 57,
      "outputs": [
        {
          "output_type": "stream",
          "text": [
            "              precision    recall  f1-score   support\n",
            "\n",
            "           0       1.00      1.00      1.00     85306\n",
            "           1       0.73      0.72      0.72       137\n",
            "\n",
            "    accuracy                           1.00     85443\n",
            "   macro avg       0.86      0.86      0.86     85443\n",
            "weighted avg       1.00      1.00      1.00     85443\n",
            "\n"
          ],
          "name": "stdout"
        }
      ]
    },
    {
      "cell_type": "code",
      "metadata": {
        "id": "D6PYmqWyQmtj"
      },
      "source": [
        "#Hacerlo con el RandomForest"
      ],
      "execution_count": null,
      "outputs": []
    },
    {
      "cell_type": "code",
      "metadata": {
        "id": "wwA_pdxrQqmD"
      },
      "source": [
        "from sklearn.ensemble import RandomForestClassifier\n",
        "rf = RandomForestClassifier(n_estimators=100, n_jobs=-1, random_state=1)"
      ],
      "execution_count": 60,
      "outputs": []
    },
    {
      "cell_type": "code",
      "metadata": {
        "colab": {
          "base_uri": "https://localhost:8080/"
        },
        "id": "j5THiAg0RHBb",
        "outputId": "7d94faa6-0cdb-4468-df42-963096f74226"
      },
      "source": [
        "rf.fit(X_train, y_train)"
      ],
      "execution_count": 61,
      "outputs": [
        {
          "output_type": "execute_result",
          "data": {
            "text/plain": [
              "RandomForestClassifier(bootstrap=True, ccp_alpha=0.0, class_weight=None,\n",
              "                       criterion='gini', max_depth=None, max_features='auto',\n",
              "                       max_leaf_nodes=None, max_samples=None,\n",
              "                       min_impurity_decrease=0.0, min_impurity_split=None,\n",
              "                       min_samples_leaf=1, min_samples_split=2,\n",
              "                       min_weight_fraction_leaf=0.0, n_estimators=100,\n",
              "                       n_jobs=-1, oob_score=False, random_state=1, verbose=0,\n",
              "                       warm_start=False)"
            ]
          },
          "metadata": {
            "tags": []
          },
          "execution_count": 61
        }
      ]
    },
    {
      "cell_type": "code",
      "metadata": {
        "colab": {
          "base_uri": "https://localhost:8080/"
        },
        "id": "r1opwB4kROlW",
        "outputId": "9076c82b-3e0f-44f0-c77a-32c2c8244514"
      },
      "source": [
        "y_preds = rf.predict(X_test)\n",
        "y_preds"
      ],
      "execution_count": 62,
      "outputs": [
        {
          "output_type": "execute_result",
          "data": {
            "text/plain": [
              "array([0, 0, 0, ..., 0, 0, 0])"
            ]
          },
          "metadata": {
            "tags": []
          },
          "execution_count": 62
        }
      ]
    },
    {
      "cell_type": "code",
      "metadata": {
        "colab": {
          "base_uri": "https://localhost:8080/"
        },
        "id": "xPgWccjDR-vh",
        "outputId": "4c5a1e17-8cbc-48af-8bc5-72f306deca21"
      },
      "source": [
        "accuracy_score(y_test, y_preds) *100"
      ],
      "execution_count": 63,
      "outputs": [
        {
          "output_type": "execute_result",
          "data": {
            "text/plain": [
              "99.95084442259751"
            ]
          },
          "metadata": {
            "tags": []
          },
          "execution_count": 63
        }
      ]
    },
    {
      "cell_type": "code",
      "metadata": {
        "colab": {
          "base_uri": "https://localhost:8080/"
        },
        "id": "xIhK4PYhopGi",
        "outputId": "6c031e3d-e68e-4883-cd62-83ae46675bc6"
      },
      "source": [
        "from sklearn import metrics\n",
        "print(metrics.classification_report(y_preds, y_test))"
      ],
      "execution_count": 64,
      "outputs": [
        {
          "output_type": "stream",
          "text": [
            "              precision    recall  f1-score   support\n",
            "\n",
            "           0       1.00      1.00      1.00     85330\n",
            "           1       0.76      0.91      0.83       113\n",
            "\n",
            "    accuracy                           1.00     85443\n",
            "   macro avg       0.88      0.96      0.92     85443\n",
            "weighted avg       1.00      1.00      1.00     85443\n",
            "\n"
          ],
          "name": "stdout"
        }
      ]
    }
  ]
}