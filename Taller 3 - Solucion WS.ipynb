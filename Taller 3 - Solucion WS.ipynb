{
 "cells": [
  {
   "attachments": {},
   "cell_type": "markdown",
   "metadata": {},
   "source": [
    "<img src='https://s3.amazonaws.com/ss-usa/companies/MzawMDG3MLIwAQA/uploads/Logos/Logo_transp_KL_360x193.png'>\n",
    "\n",
    "\n",
    "\n",
    "\n",
    "\n",
    "### Solución Taller N° 3 - NLP\n"
   ]
  },
  {
   "cell_type": "markdown",
   "metadata": {},
   "source": [
    "#### *Keylan Valencia - 616202063*"
   ]
  },
  {
   "cell_type": "markdown",
   "metadata": {},
   "source": [
    "##### Punto 1 "
   ]
  },
  {
   "cell_type": "markdown",
   "metadata": {},
   "source": [
    "###### A) Hacer Web Scraping de 10 animales en Wikipedia (en búcle)"
   ]
  },
  {
   "cell_type": "code",
   "execution_count": 213,
   "metadata": {},
   "outputs": [],
   "source": [
    "import bs4 as bs"
   ]
  },
  {
   "cell_type": "code",
   "execution_count": 214,
   "metadata": {},
   "outputs": [],
   "source": [
    "import urllib.request"
   ]
  },
  {
   "cell_type": "code",
   "execution_count": 306,
   "metadata": {},
   "outputs": [],
   "source": [
    "direcciones = [\"https://es.wikipedia.org/wiki/Scolopendra\", \"https://es.wikipedia.org/wiki/Tapirus\", \"https://es.wikipedia.org/wiki/Scorpiones\" , \"https://es.wikipedia.org/wiki/Eunectes\" , \"https://es.wikipedia.org/wiki/%C3%81guila\" , \"https://es.wikipedia.org/wiki/Coleoptera\" , \"https://es.wikipedia.org/wiki/Canis_familiaris\" , \"https://es.wikipedia.org/wiki/Sus_scrofa_domestica\", \"https://es.wikipedia.org/wiki/Columbidae\" , \"https://es.wikipedia.org/wiki/Cricetinae\"]   "
   ]
  },
  {
   "cell_type": "markdown",
   "metadata": {},
   "source": [
    "###### B) Obtener el **encabezado** de cada animal"
   ]
  },
  {
   "cell_type": "code",
   "execution_count": 360,
   "metadata": {},
   "outputs": [
    {
     "name": "stdout",
     "output_type": "stream",
     "text": [
      "Scolopendra\n",
      "Tapirus\n",
      "Scorpiones\n",
      "Eunectes\n",
      "Águila\n",
      "Coleoptera\n",
      "Canis familiaris\n",
      "Sus scrofa domestica\n",
      "Columbidae\n",
      "Cricetinae\n"
     ]
    }
   ],
   "source": [
    "\n",
    "for enlaces in direcciones:\n",
    "    navega = urllib.request.Request(enlaces, headers={'User-Agent':'Mozilla/5.0'})\n",
    "    pagina = urllib.request.urlopen(navega)\n",
    "    lector = pagina.read()\n",
    "    pagina.close()\n",
    "    codigo = bs.BeautifulSoup(lector, 'html.parser')\n",
    "    variable = codigo.find(\"body\").find(\"h1\").text\n",
    "    print (variable)"
   ]
  },
  {
   "cell_type": "markdown",
   "metadata": {},
   "source": [
    "###### C) Obtener todos los **textos** que están en las etiquetas de negrilla."
   ]
  },
  {
   "cell_type": "code",
   "execution_count": 315,
   "metadata": {},
   "outputs": [],
   "source": [
    "import re"
   ]
  },
  {
   "cell_type": "code",
   "execution_count": 447,
   "metadata": {},
   "outputs": [
    {
     "name": "stdout",
     "output_type": "stream",
     "text": [
      "-----------------\n",
      "Scolopendra\n",
      "-----------------\n",
      "Tapirus\n",
      "-----------------\n",
      "Scorpiones\n",
      "-----------------\n",
      "Eunectes\n",
      "-----------------\n",
      "Águila\n",
      "-----------------\n",
      "Coleoptera\n",
      "-----------------\n",
      "C. familiaris\n",
      "-----------------\n",
      "S. s. domestica\n",
      "-----------------\n",
      "Columbidae\n",
      "-----------------\n",
      "Cricetinae\n"
     ]
    }
   ],
   "source": [
    "\n",
    "for enlaces in direcciones:\n",
    "    \n",
    "    navega = urllib.request.Request(enlaces, headers={'User-Agent':'Mozilla/5.0'})\n",
    "    pagina = urllib.request.urlopen(navega)\n",
    "    lector = pagina.read()\n",
    "    pagina.close()\n",
    "    codigo = bs.BeautifulSoup(lector, 'html.parser')\n",
    "    negrilla = codigo.find(\"body\").find(\"b\")\n",
    "    listanegrilla = [ ]\n",
    "    for val in negrilla:\n",
    "       listanegrilla.append(val) \n",
    "    print(\"-----------------\")\n",
    "    for palabra in listanegrilla:\n",
    "        print(palabra)\n",
    "        "
   ]
  },
  {
   "cell_type": "markdown",
   "metadata": {},
   "source": [
    "##### Punto 2  \n",
    "###### RegEx, Se reemplaza la letra O por Asterísco (*) ya que no hay tíldes "
   ]
  },
  {
   "cell_type": "code",
   "execution_count": 448,
   "metadata": {},
   "outputs": [
    {
     "name": "stdout",
     "output_type": "stream",
     "text": [
      "Sc*l*pendra\n",
      "Tapirus\n",
      "Sc*rpi*nes\n",
      "Eunectes\n",
      "Águila\n",
      "C*le*ptera\n",
      "Canis familiaris\n",
      "Sus scr*fa d*mestica\n",
      "C*lumbidae\n",
      "Cricetinae\n"
     ]
    }
   ],
   "source": [
    "\n",
    "        for enlaces in direcciones:\n",
    "    navega = urllib.request.Request(enlaces, headers={'User-Agent':'Mozilla/5.0'})\n",
    "    pagina = urllib.request.urlopen(navega)\n",
    "    lector = pagina.read()\n",
    "    pagina.close()\n",
    "    codigo = bs.BeautifulSoup(lector, 'html.parser')\n",
    "    variable2 = codigo.find(\"body\").find(\"h1\").text\n",
    "    reemplazo = re.sub(r\"[o]\", \"*\", variable2)\n",
    "    print(reemplazo)\n"
   ]
  }
 ],
 "metadata": {
  "kernelspec": {
   "display_name": "Python 3",
   "language": "python",
   "name": "python3"
  },
  "language_info": {
   "codemirror_mode": {
    "name": "ipython",
    "version": 3
   },
   "file_extension": ".py",
   "mimetype": "text/x-python",
   "name": "python",
   "nbconvert_exporter": "python",
   "pygments_lexer": "ipython3",
   "version": "3.8.5"
  }
 },
 "nbformat": 4,
 "nbformat_minor": 4
}
